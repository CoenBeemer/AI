{
 "cells": [
  {
   "cell_type": "code",
   "execution_count": null,
   "metadata": {},
   "outputs": [],
   "source": [
    "import numpy as np\n",
    "import pandas as pd\n",
    "import sklearn as sk\n",
    "import matplotlib\n",
    "import matplotlib.pyplot as plt\n",
    "from IPython.display import display\n",
    "import seaborn as sn\n",
    "\n",
    "print('numpy version:', np.__version__)\n",
    "print('pandas version:', pd.__version__)\n",
    "print('scikit-learn version:', sk.__version__)\n",
    "print('matplotlib version:', matplotlib.__version__)\n",
    "\n",
    "%matplotlib inline"
   ]
  },
  {
   "cell_type": "code",
   "execution_count": null,
   "metadata": {},
   "outputs": [],
   "source": [
    "dfRelevant = pd.DataFrame()"
   ]
  },
  {
   "cell_type": "code",
   "execution_count": null,
   "metadata": {},
   "outputs": [],
   "source": [
    "df = pd.read_csv(\"../data/IGN_data.csv\",index_col=0)\n"
   ]
  },
  {
   "cell_type": "code",
   "execution_count": null,
   "metadata": {},
   "outputs": [],
   "source": [
    "df.sample(10)"
   ]
  },
  {
   "cell_type": "code",
   "execution_count": null,
   "metadata": {},
   "outputs": [],
   "source": [
    "df.info()"
   ]
  },
  {
   "cell_type": "markdown",
   "metadata": {},
   "source": [
    "here I take out all the null values of the values I think is important"
   ]
  },
  {
   "cell_type": "code",
   "execution_count": null,
   "metadata": {},
   "outputs": [],
   "source": [
    "dfPub = df\n",
    "dfPub = dfPub[dfPub.publishers.notna()]\n",
    "dfDates = dfPub\n",
    "dfDates = dfPub[dfPub.released_date.notna()]\n",
    "dfGenres = dfDates\n",
    "dfGenres = dfDates[dfDates.genres.notna()]\n",
    "dfFeatures = dfGenres\n",
    "dfFeatures = dfFeatures[dfFeatures.features.notna()]\n",
    "dfScore = dfFeatures\n",
    "dfScore = dfScore[dfScore.score.notna()]\n",
    "dfScore.info()\n",
    "\n"
   ]
  },
  {
   "cell_type": "code",
   "execution_count": null,
   "metadata": {},
   "outputs": [],
   "source": [
    "shape = dfScore.shape\n",
    "\n",
    "\n",
    "dfRelevant[\"released_date_f\"] = pd.to_datetime(dfScore[\"released_date\"]).astype(int) / 10**9\n",
    "# creating a column with datetime properly formatted\n",
    "\n",
    "# creating predictors to build basic ML model that we can add further complexity to later\n",
    "\n",
    "# dfGenres[\"publishers_f\"] =dfGenres[\"publishers\"].astype(\"category\").cat.codes # ->one hot encoding\n",
    "# dfGenres[\"features_f\"] = dfGenres[\"features\"].astype(\"category\").cat.codes # ->one hot encoding\n",
    "# dfGenres[\"platform_f\"] = dfGenres[\"platform\"].astype(\"category\").cat.codes # ->one hot encoding\n",
    "# dfGenres[\"genres_f\"] = dfGenres[\"genres\"].astype(\"category\").cat.codes # ->one hot encoding\n",
    "dfRelevant[\"esrb_f\"] = dfScore[\"esrb\"].astype(\"category\").cat.codes\n",
    "dfRelevant[\"score_text_f\"] = dfGenres[\"score_text\"].astype(\"category\").cat.codes\n",
    "dfRelevant[\"franchises_f\"] = dfScore[\"franchises\"].astype(\"category\").cat.codes\n",
    "#converting from string to categories and then converting those categoties to numbers"
   ]
  },
  {
   "cell_type": "markdown",
   "metadata": {},
   "source": [
    "## One hot encoding"
   ]
  },
  {
   "cell_type": "code",
   "execution_count": null,
   "metadata": {},
   "outputs": [],
   "source": [
    "dfHotFeatures = pd.DataFrame()\n",
    "dfHotFeatures['score'] = dfScore['score']"
   ]
  },
  {
   "cell_type": "code",
   "execution_count": null,
   "metadata": {},
   "outputs": [],
   "source": [
    "for row in dfScore.features:\n",
    "         if (row):\n",
    "                row_ = row.strip('[]')\n",
    "                row_ = row.replace(\"'\", \"\")\n",
    "                rowArr = row_.split(',')\n",
    "                for feature in rowArr:\n",
    "                    feature = feature.replace('[', \"\")\n",
    "                    feature = feature.replace(']', \"\")\n",
    "                    dfRelevant.loc[dfFeatures['features'] == row, feature] = 1\n",
    "                    dfHotFeatures.loc[dfFeatures['features'] == row, feature] = 1\n",
    "                    \n"
   ]
  },
  {
   "cell_type": "markdown",
   "metadata": {},
   "source": [
    "Here I show the relation between the score and hot encoded features"
   ]
  },
  {
   "cell_type": "code",
   "execution_count": null,
   "metadata": {},
   "outputs": [],
   "source": [
    "print(dfHotFeatures.shape)\n",
    "dfHotFeatures = dfHotFeatures.fillna(0)\n",
    "columns = dfRelevant.shape[1]\n",
    "\n",
    "dfTemp = dfHotFeatures\n",
    "corr_matrix = dfTemp.corr()\n",
    "sn.heatmap(corr_matrix.iloc[[0]], annot=False)\n",
    "plt.show()\n"
   ]
  },
  {
   "cell_type": "code",
   "execution_count": null,
   "metadata": {},
   "outputs": [],
   "source": [
    "dfHotPublishers = pd.DataFrame()\n",
    "dfHotPublishers['score'] = dfScore['score']"
   ]
  },
  {
   "cell_type": "code",
   "execution_count": null,
   "metadata": {},
   "outputs": [],
   "source": [
    "for row in dfScore.publishers:\n",
    "         if (row):\n",
    "                row_ = row.replace('[', \"\")\n",
    "                row_ = row.replace(']', \"\")\n",
    "                row_ = row.replace(\"'\", \"\")\n",
    "                rowArr = row_.split(',')\n",
    "                for publisher in rowArr:\n",
    "                    publisher = publisher.replace('[', \"\")\n",
    "                    publisher = publisher.replace(']', \"\")\n",
    "                    dfRelevant.loc[dfFeatures['publishers'] == row, publisher] = 1\n",
    "                    dfHotPublishers.loc[dfFeatures['publishers'] == row, publisher] = 1\n"
   ]
  },
  {
   "cell_type": "code",
   "execution_count": null,
   "metadata": {},
   "outputs": [],
   "source": [
    "print(dfHotPublishers.shape)\n",
    "dfHotPublishers = dfHotPublishers.fillna(0)\n",
    "dfTemp = dfHotPublishers\n",
    "corr_matrix = dfTemp.corr()\n",
    "sn.heatmap(corr_matrix.iloc[[0]], annot=False)\n",
    "plt.show()\n"
   ]
  },
  {
   "cell_type": "code",
   "execution_count": null,
   "metadata": {},
   "outputs": [],
   "source": [
    "dfHotPlatform = pd.DataFrame()\n",
    "dfHotPlatform['score'] = dfScore['score']"
   ]
  },
  {
   "cell_type": "code",
   "execution_count": null,
   "metadata": {},
   "outputs": [],
   "source": [
    "for row in dfScore.platform:\n",
    "         if (row):\n",
    "                row_ = row.replace('[', \"\")\n",
    "                row_ = row.replace(']', \"\")\n",
    "                row_ = row.replace(\"'\", \"\")\n",
    "                rowArr = row_.split(',')\n",
    "                for platform in rowArr:\n",
    "                    platform = platform.replace('[', \"\")\n",
    "                    platform = platform.replace(']', \"\")\n",
    "                    dfRelevant.loc[dfFeatures['platform'] == row, platform] = 1\n",
    "                    dfHotPlatform.loc[dfFeatures['platform'] == row, platform] = 1\n"
   ]
  },
  {
   "cell_type": "code",
   "execution_count": null,
   "metadata": {},
   "outputs": [],
   "source": [
    "print(dfHotPlatform.shape)\n",
    "dfHotPlatform = dfHotPlatform.fillna(0)\n",
    "dfTemp = dfHotPlatform\n",
    "corr_matrix = dfTemp.corr()\n",
    "sn.heatmap(corr_matrix.iloc[[0]], annot=False)\n",
    "plt.show()"
   ]
  },
  {
   "cell_type": "code",
   "execution_count": null,
   "metadata": {},
   "outputs": [],
   "source": [
    "for row in dfScore.genres:\n",
    "         if (row):\n",
    "                row_ = row.replace('[', \"\")\n",
    "                row_ = row.replace(']', \"\")\n",
    "                row_ = row.replace(\"'\", \"\")\n",
    "                rowArr = row_.split(',')\n",
    "                for genre_ in rowArr:\n",
    "                    genre_ = genre_.replace('[', \"\")\n",
    "                    genre_ = genre_.replace(']', \"\")\n",
    "                    dfRelevant.loc[dfFeatures['genres'] == row, genre_] = 1\n"
   ]
  },
  {
   "cell_type": "code",
   "execution_count": null,
   "metadata": {},
   "outputs": [],
   "source": [
    "dfRelevant"
   ]
  },
  {
   "cell_type": "code",
   "execution_count": null,
   "metadata": {},
   "outputs": [],
   "source": [
    "dfRelevant.info()\n",
    "dfRelevant = dfRelevant.fillna(0)"
   ]
  },
  {
   "cell_type": "code",
   "execution_count": null,
   "metadata": {},
   "outputs": [],
   "source": [
    "corr_matrix = corr_matrix.replace(to_replace=1, value=-1)\n",
    "corr_matrix = corr_matrix.reset_index(drop=True)\n",
    "# inloop = 0\n",
    "# for columns in corr_matrix.items():\n",
    "#    if(inloop):\n",
    "#    # print(columns)\n",
    "#       print(max(columns))\n",
    "#    inloop=1"
   ]
  },
  {
   "cell_type": "code",
   "execution_count": null,
   "metadata": {},
   "outputs": [],
   "source": [
    "from sklearn.model_selection import train_test_split\n",
    "scoring_X = dfRelevant\n",
    "scoring_y = (dfScore['score']*10).astype(int)\n",
    "\n",
    "X_train_scoring, X_test_scoring, y_train_scoring, y_test_scoring = train_test_split(scoring_X, scoring_y, test_size=0.2)"
   ]
  },
  {
   "cell_type": "code",
   "execution_count": null,
   "metadata": {},
   "outputs": [],
   "source": [
    "X_test_scoring"
   ]
  },
  {
   "cell_type": "code",
   "execution_count": null,
   "metadata": {},
   "outputs": [],
   "source": [
    "y_test_scoring"
   ]
  },
  {
   "cell_type": "markdown",
   "metadata": {},
   "source": [
    "## data visualisation"
   ]
  },
  {
   "cell_type": "code",
   "execution_count": null,
   "metadata": {},
   "outputs": [],
   "source": [
    "# dfTemp = X_test_scoring\n",
    "# dfTemp[\"score\"] = y_test_scoring # for some reason this adds the score line to the X_test_scoring dataframe as well???????\n",
    "\n",
    "# ax1 = dfTemp.plot.scatter(x='released_date_f',y='score',c='esrb_f')\n",
    "# ax2 = dfTemp.plot.scatter(x='esrb_f',y='score')\n",
    "# ax3 = dfTemp.plot.scatter(x='esrb_f',y='franchises_f',c='score')\n",
    "# ax4 = dfTemp.plot.scatter(x='franchises_f',y='released_date_f',c='score')\n",
    "\n",
    "# ax5 = dfTemp.plot.scatter(x='released_date_f',y='score')\n"
   ]
  },
  {
   "cell_type": "markdown",
   "metadata": {},
   "source": [
    "### Relevancy\n",
    "these visualisations don't show a clear correlation between any of the prominent features. I hope maybe some of the other features like the genres or platforms have a significant influence on the score, but I highly doubt those will show any correlation either. I will explore this below in a correlation matrix."
   ]
  },
  {
   "cell_type": "code",
   "execution_count": null,
   "metadata": {},
   "outputs": [],
   "source": [
    "plt.boxplot(dfTemp['score'])\n",
    "plt.show()"
   ]
  },
  {
   "cell_type": "markdown",
   "metadata": {},
   "source": [
    "### correlation matrix\n",
    "\n",
    "here I try to look for correlation in the data to see what is relevant for the AI.\n",
    "\n",
    "Because of the sheer amount of columns I have (almost 2000) I will split this up into several matrices or the kernel will crash because of too much data."
   ]
  },
  {
   "cell_type": "code",
   "execution_count": null,
   "metadata": {},
   "outputs": [],
   "source": []
  },
  {
   "cell_type": "markdown",
   "metadata": {},
   "source": [
    "## DecisionTree and RandomForest"
   ]
  },
  {
   "cell_type": "code",
   "execution_count": null,
   "metadata": {},
   "outputs": [],
   "source": [
    "from sklearn.ensemble import RandomForestClassifier\n",
    "from sklearn.metrics import accuracy_score\n",
    "from sklearn import tree\n",
    "from sklearn.tree import DecisionTreeClassifier\n",
    "\n",
    "\n",
    "treeModel = DecisionTreeClassifier(criterion='entropy', max_depth=5)\n",
    "treeModel.fit(X_train_scoring,y_train_scoring)\n",
    "tree.plot_tree(treeModel)\n",
    "\n",
    "y_pred_tree = treeModel.predict(X_test_scoring)\n",
    "accuracy_score(y_test_scoring, y_pred_tree)"
   ]
  },
  {
   "cell_type": "code",
   "execution_count": null,
   "metadata": {},
   "outputs": [],
   "source": [
    "rf = RandomForestClassifier(n_estimators=50, min_samples_split=2)\n",
    "rf.fit(X_train_scoring,y_train_scoring)\n",
    "\n",
    "y_pred = rf.predict(X_test_scoring)\n",
    "accuracy_score(y_test_scoring, y_pred)"
   ]
  },
  {
   "cell_type": "markdown",
   "metadata": {},
   "source": [
    "## kNN"
   ]
  }
 ],
 "metadata": {
  "kernelspec": {
   "display_name": "Python 3.10.4 64-bit",
   "language": "python",
   "name": "python3"
  },
  "language_info": {
   "codemirror_mode": {
    "name": "ipython",
    "version": 3
   },
   "file_extension": ".py",
   "mimetype": "text/x-python",
   "name": "python",
   "nbconvert_exporter": "python",
   "pygments_lexer": "ipython3",
   "version": "3.10.4"
  },
  "orig_nbformat": 4,
  "vscode": {
   "interpreter": {
    "hash": "916dbcbb3f70747c44a77c7bcd40155683ae19c65e1c03b4aa3499c5328201f1"
   }
  }
 },
 "nbformat": 4,
 "nbformat_minor": 2
}
