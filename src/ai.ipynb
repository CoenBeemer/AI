{
 "cells": [
  {
   "cell_type": "code",
   "execution_count": 1,
   "metadata": {},
   "outputs": [
    {
     "name": "stdout",
     "output_type": "stream",
     "text": [
      "numpy version: 1.21.5\n",
      "pandas version: 1.4.4\n",
      "scikit-learn version: 1.1.2\n",
      "matplotlib version: 3.6.1\n"
     ]
    }
   ],
   "source": [
    "import numpy as np\n",
    "import pandas as pd\n",
    "import sklearn as sk\n",
    "import matplotlib\n",
    "import matplotlib.pyplot as plt\n",
    "from IPython.display import display\n",
    "\n",
    "print('numpy version:', np.__version__)\n",
    "print('pandas version:', pd.__version__)\n",
    "print('scikit-learn version:', sk.__version__)\n",
    "print('matplotlib version:', matplotlib.__version__)\n",
    "\n",
    "%matplotlib inline"
   ]
  },
  {
   "cell_type": "code",
   "execution_count": 8,
   "metadata": {},
   "outputs": [],
   "source": [
    "df = pd.read_csv(\"../data/IGN_data.csv\",index_col=0)\n"
   ]
  },
  {
   "cell_type": "code",
   "execution_count": 9,
   "metadata": {},
   "outputs": [
    {
     "data": {
      "text/html": [
       "<div>\n",
       "<style scoped>\n",
       "    .dataframe tbody tr th:only-of-type {\n",
       "        vertical-align: middle;\n",
       "    }\n",
       "\n",
       "    .dataframe tbody tr th {\n",
       "        vertical-align: top;\n",
       "    }\n",
       "\n",
       "    .dataframe thead th {\n",
       "        text-align: right;\n",
       "    }\n",
       "</style>\n",
       "<table border=\"1\" class=\"dataframe\">\n",
       "  <thead>\n",
       "    <tr style=\"text-align: right;\">\n",
       "      <th></th>\n",
       "      <th>game</th>\n",
       "      <th>developers</th>\n",
       "      <th>publishers</th>\n",
       "      <th>franchises</th>\n",
       "      <th>features</th>\n",
       "      <th>released_date</th>\n",
       "      <th>platform</th>\n",
       "      <th>genres</th>\n",
       "      <th>score</th>\n",
       "      <th>score_text</th>\n",
       "      <th>esrb</th>\n",
       "      <th>esrb_info</th>\n",
       "    </tr>\n",
       "  </thead>\n",
       "  <tbody>\n",
       "    <tr>\n",
       "      <th>0</th>\n",
       "      <td>Magic &amp; Mayhem</td>\n",
       "      <td>['Mythos Games']</td>\n",
       "      <td>['Bethesda  Softworks']</td>\n",
       "      <td>NaN</td>\n",
       "      <td>['Memory Card', 'Online']</td>\n",
       "      <td>1999-05-15 00:00:00</td>\n",
       "      <td>['PC']</td>\n",
       "      <td>['Strategy']</td>\n",
       "      <td>7.3</td>\n",
       "      <td>good</td>\n",
       "      <td>Teen</td>\n",
       "      <td>['Animated Violence']</td>\n",
       "    </tr>\n",
       "    <tr>\n",
       "      <th>1</th>\n",
       "      <td>Fishing Master [2007]</td>\n",
       "      <td>['Hudson Soft']</td>\n",
       "      <td>['Konami', 'Hudson Soft']</td>\n",
       "      <td>NaN</td>\n",
       "      <td>['Number Of Players', 'Local - VS # of Players']</td>\n",
       "      <td>2006-03-29 00:00:00</td>\n",
       "      <td>['Wii']</td>\n",
       "      <td>['Hunting']</td>\n",
       "      <td>5.5</td>\n",
       "      <td>mediocre</td>\n",
       "      <td>Everyone</td>\n",
       "      <td>['Mild Language']</td>\n",
       "    </tr>\n",
       "    <tr>\n",
       "      <th>2</th>\n",
       "      <td>Far Cry 2</td>\n",
       "      <td>['Gameloft', 'Ubisoft Montreal']</td>\n",
       "      <td>['Ubisoft', 'Gameloft']</td>\n",
       "      <td>['Far Cry']</td>\n",
       "      <td>['Memory Card', 'Vibration', 'DualShock', 'Mem...</td>\n",
       "      <td>2008-10-21 00:00:00</td>\n",
       "      <td>['Luna', 'PC', 'Wireless', 'Xbox 360', 'PlaySt...</td>\n",
       "      <td>['Shooter']</td>\n",
       "      <td>8.9</td>\n",
       "      <td>great</td>\n",
       "      <td>Mature</td>\n",
       "      <td>['Intense Violence', 'Drug Reference', 'Strong...</td>\n",
       "    </tr>\n",
       "    <tr>\n",
       "      <th>3</th>\n",
       "      <td>Pro 18: World Tour Golf</td>\n",
       "      <td>['Psygnosis']</td>\n",
       "      <td>['Psygnosis', 'Electro Source']</td>\n",
       "      <td>NaN</td>\n",
       "      <td>['Number Of Players', 'Memory Card', 'Online']</td>\n",
       "      <td>1999-03-31 00:00:00</td>\n",
       "      <td>['PC', 'PlayStation']</td>\n",
       "      <td>['Sports']</td>\n",
       "      <td>3.0</td>\n",
       "      <td>awful</td>\n",
       "      <td>Everyone</td>\n",
       "      <td>['Suitable for Persons Ages Six and Older', 'N...</td>\n",
       "    </tr>\n",
       "    <tr>\n",
       "      <th>4</th>\n",
       "      <td>Bust A Groove</td>\n",
       "      <td>['Metro Corporation (aka Metro Graphics)']</td>\n",
       "      <td>['Sony Computer Entertainment', 'Enix', '989 S...</td>\n",
       "      <td>['Bust a Groove']</td>\n",
       "      <td>['Number Of Players', 'Memory Card', 'Vibration']</td>\n",
       "      <td>1998-04-27 00:00:00</td>\n",
       "      <td>['PlayStation']</td>\n",
       "      <td>['Action', 'Music']</td>\n",
       "      <td>9.0</td>\n",
       "      <td>amazing</td>\n",
       "      <td>Everyone</td>\n",
       "      <td>['Mild Language']</td>\n",
       "    </tr>\n",
       "  </tbody>\n",
       "</table>\n",
       "</div>"
      ],
      "text/plain": [
       "                      game                                  developers  \\\n",
       "0           Magic & Mayhem                            ['Mythos Games']   \n",
       "1    Fishing Master [2007]                             ['Hudson Soft']   \n",
       "2                Far Cry 2            ['Gameloft', 'Ubisoft Montreal']   \n",
       "3  Pro 18: World Tour Golf                               ['Psygnosis']   \n",
       "4            Bust A Groove  ['Metro Corporation (aka Metro Graphics)']   \n",
       "\n",
       "                                          publishers         franchises  \\\n",
       "0                            ['Bethesda  Softworks']                NaN   \n",
       "1                          ['Konami', 'Hudson Soft']                NaN   \n",
       "2                            ['Ubisoft', 'Gameloft']        ['Far Cry']   \n",
       "3                    ['Psygnosis', 'Electro Source']                NaN   \n",
       "4  ['Sony Computer Entertainment', 'Enix', '989 S...  ['Bust a Groove']   \n",
       "\n",
       "                                            features        released_date  \\\n",
       "0                          ['Memory Card', 'Online']  1999-05-15 00:00:00   \n",
       "1   ['Number Of Players', 'Local - VS # of Players']  2006-03-29 00:00:00   \n",
       "2  ['Memory Card', 'Vibration', 'DualShock', 'Mem...  2008-10-21 00:00:00   \n",
       "3     ['Number Of Players', 'Memory Card', 'Online']  1999-03-31 00:00:00   \n",
       "4  ['Number Of Players', 'Memory Card', 'Vibration']  1998-04-27 00:00:00   \n",
       "\n",
       "                                            platform               genres  \\\n",
       "0                                             ['PC']         ['Strategy']   \n",
       "1                                            ['Wii']          ['Hunting']   \n",
       "2  ['Luna', 'PC', 'Wireless', 'Xbox 360', 'PlaySt...          ['Shooter']   \n",
       "3                              ['PC', 'PlayStation']           ['Sports']   \n",
       "4                                    ['PlayStation']  ['Action', 'Music']   \n",
       "\n",
       "   score score_text      esrb  \\\n",
       "0    7.3       good      Teen   \n",
       "1    5.5   mediocre  Everyone   \n",
       "2    8.9      great    Mature   \n",
       "3    3.0      awful  Everyone   \n",
       "4    9.0    amazing  Everyone   \n",
       "\n",
       "                                           esrb_info  \n",
       "0                              ['Animated Violence']  \n",
       "1                                  ['Mild Language']  \n",
       "2  ['Intense Violence', 'Drug Reference', 'Strong...  \n",
       "3  ['Suitable for Persons Ages Six and Older', 'N...  \n",
       "4                                  ['Mild Language']  "
      ]
     },
     "execution_count": 9,
     "metadata": {},
     "output_type": "execute_result"
    }
   ],
   "source": [
    "df.head()"
   ]
  },
  {
   "cell_type": "code",
   "execution_count": 11,
   "metadata": {},
   "outputs": [
    {
     "name": "stdout",
     "output_type": "stream",
     "text": [
      "<class 'pandas.core.frame.DataFrame'>\n",
      "Int64Index: 11362 entries, 0 to 11361\n",
      "Data columns (total 12 columns):\n",
      " #   Column         Non-Null Count  Dtype  \n",
      "---  ------         --------------  -----  \n",
      " 0   game           11362 non-null  object \n",
      " 1   developers     11050 non-null  object \n",
      " 2   publishers     11282 non-null  object \n",
      " 3   franchises     6165 non-null   object \n",
      " 4   features       8668 non-null   object \n",
      " 5   released_date  11307 non-null  object \n",
      " 6   platform       11362 non-null  object \n",
      " 7   genres         11339 non-null  object \n",
      " 8   score          11319 non-null  float64\n",
      " 9   score_text     11319 non-null  object \n",
      " 10  esrb           9490 non-null   object \n",
      " 11  esrb_info      8569 non-null   object \n",
      "dtypes: float64(1), object(11)\n",
      "memory usage: 1.1+ MB\n"
     ]
    }
   ],
   "source": [
    "df.info()"
   ]
  },
  {
   "cell_type": "code",
   "execution_count": 15,
   "metadata": {},
   "outputs": [
    {
     "name": "stdout",
     "output_type": "stream",
     "text": [
      "<class 'pandas.core.frame.DataFrame'>\n",
      "Int64Index: 11014 entries, 0 to 11361\n",
      "Data columns (total 12 columns):\n",
      " #   Column         Non-Null Count  Dtype  \n",
      "---  ------         --------------  -----  \n",
      " 0   game           11014 non-null  object \n",
      " 1   developers     11014 non-null  object \n",
      " 2   publishers     10966 non-null  object \n",
      " 3   franchises     6041 non-null   object \n",
      " 4   features       8523 non-null   object \n",
      " 5   released_date  11014 non-null  object \n",
      " 6   platform       11014 non-null  object \n",
      " 7   genres         10995 non-null  object \n",
      " 8   score          10976 non-null  float64\n",
      " 9   score_text     10976 non-null  object \n",
      " 10  esrb           9287 non-null   object \n",
      " 11  esrb_info      8401 non-null   object \n",
      "dtypes: float64(1), object(11)\n",
      "memory usage: 1.1+ MB\n"
     ]
    }
   ],
   "source": [
    "dfDev = df\n",
    "dfDev = dfDev[dfDev.developers.notna()]\n",
    "dfDates = df\n",
    "dfDates = dfDev[dfDev.released_date.notna()]\n",
    "dfGenres = df\n",
    "dfGenres = dfDates[dfDates.genres.notna()]\n",
    "dfDates.info()"
   ]
  }
 ],
 "metadata": {
  "kernelspec": {
   "display_name": "Python 3.10.4 64-bit",
   "language": "python",
   "name": "python3"
  },
  "language_info": {
   "codemirror_mode": {
    "name": "ipython",
    "version": 3
   },
   "file_extension": ".py",
   "mimetype": "text/x-python",
   "name": "python",
   "nbconvert_exporter": "python",
   "pygments_lexer": "ipython3",
   "version": "3.10.4"
  },
  "orig_nbformat": 4,
  "vscode": {
   "interpreter": {
    "hash": "916dbcbb3f70747c44a77c7bcd40155683ae19c65e1c03b4aa3499c5328201f1"
   }
  }
 },
 "nbformat": 4,
 "nbformat_minor": 2
}
