{
 "cells": [
  {
   "cell_type": "markdown",
   "metadata": {},
   "source": [
    "# Overlord AI\n",
    "For information about this project, see [this README.md](README.md)"
   ]
  },
  {
   "cell_type": "markdown",
   "metadata": {},
   "source": [
    "# CODE STARTS HERE"
   ]
  },
  {
   "cell_type": "markdown",
   "metadata": {},
   "source": [
    "First we import all the libraries and whatnot"
   ]
  },
  {
   "cell_type": "code",
   "execution_count": 1,
   "metadata": {},
   "outputs": [],
   "source": [
    "import pandas as pd\n",
    "import glob"
   ]
  },
  {
   "cell_type": "markdown",
   "metadata": {},
   "source": [
    "Definitions go here"
   ]
  },
  {
   "cell_type": "code",
   "execution_count": 2,
   "metadata": {},
   "outputs": [],
   "source": [
    "dataPath = \"../data/*.csv\"\n",
    "dfList = [\"asdf\"] # define a junk list\n",
    "dfList.clear() # clear said junk list \n"
   ]
  },
  {
   "cell_type": "markdown",
   "metadata": {},
   "source": [
    "Read the data, using glob to get all the files at once"
   ]
  },
  {
   "cell_type": "code",
   "execution_count": 3,
   "metadata": {},
   "outputs": [
    {
     "name": "stdout",
     "output_type": "stream",
     "text": [
      "1\n",
      "../data/ds_salaries.csv\n"
     ]
    }
   ],
   "source": [
    "dataList = glob.glob(dataPath)\n",
    "for fileName in dataList:\n",
    "    dfList.append(pd.read_csv(fileName , index_col=0))\n",
    "    print(len(dfList))\n",
    "    print(fileName)\n"
   ]
  },
  {
   "cell_type": "code",
   "execution_count": 4,
   "metadata": {},
   "outputs": [],
   "source": [
    "for df in dfList:\n",
    "    df.describe()\n"
   ]
  },
  {
   "cell_type": "code",
   "execution_count": 5,
   "metadata": {},
   "outputs": [
    {
     "name": "stdout",
     "output_type": "stream",
     "text": [
      "     work_year experience_level employment_type                   job_title  \\\n",
      "0         2020               MI              FT              Data Scientist   \n",
      "1         2020               SE              FT  Machine Learning Scientist   \n",
      "2         2020               SE              FT           Big Data Engineer   \n",
      "3         2020               MI              FT        Product Data Analyst   \n",
      "4         2020               SE              FT   Machine Learning Engineer   \n",
      "..         ...              ...             ...                         ...   \n",
      "602       2022               SE              FT               Data Engineer   \n",
      "603       2022               SE              FT               Data Engineer   \n",
      "604       2022               SE              FT                Data Analyst   \n",
      "605       2022               SE              FT                Data Analyst   \n",
      "606       2022               MI              FT                AI Scientist   \n",
      "\n",
      "     salary salary_currency  salary_in_usd employee_residence  remote_ratio  \\\n",
      "0     70000             EUR          79833                 DE             0   \n",
      "1    260000             USD         260000                 JP             0   \n",
      "2     85000             GBP         109024                 GB            50   \n",
      "3     20000             USD          20000                 HN             0   \n",
      "4    150000             USD         150000                 US            50   \n",
      "..      ...             ...            ...                ...           ...   \n",
      "602  154000             USD         154000                 US           100   \n",
      "603  126000             USD         126000                 US           100   \n",
      "604  129000             USD         129000                 US             0   \n",
      "605  150000             USD         150000                 US           100   \n",
      "606  200000             USD         200000                 IN           100   \n",
      "\n",
      "    company_location company_size  \n",
      "0                 DE            L  \n",
      "1                 JP            S  \n",
      "2                 GB            M  \n",
      "3                 HN            S  \n",
      "4                 US            L  \n",
      "..               ...          ...  \n",
      "602               US            M  \n",
      "603               US            M  \n",
      "604               US            M  \n",
      "605               US            M  \n",
      "606               US            L  \n",
      "\n",
      "[607 rows x 11 columns]\n"
     ]
    }
   ],
   "source": [
    "    print(df)"
   ]
  }
 ],
 "metadata": {
  "kernelspec": {
   "display_name": "Python 3 (ipykernel)",
   "language": "python",
   "name": "python3"
  },
  "language_info": {
   "codemirror_mode": {
    "name": "ipython",
    "version": 3
   },
   "file_extension": ".py",
   "mimetype": "text/x-python",
   "name": "python",
   "nbconvert_exporter": "python",
   "pygments_lexer": "ipython3",
   "version": "3.10.4"
  },
  "orig_nbformat": 4
 },
 "nbformat": 4,
 "nbformat_minor": 2
}
