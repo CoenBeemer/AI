{
 "cells": [
  {
   "cell_type": "markdown",
   "metadata": {},
   "source": [
    "# Overlord AI\n",
    "For information about this project, see [this README.md](README.md)\n"
   ]
  },
  {
   "cell_type": "markdown",
   "metadata": {},
   "source": [
    "# CODE STARTS HERE"
   ]
  },
  {
   "cell_type": "markdown",
   "metadata": {},
   "source": [
    "First we import all the libraries and whatnot"
   ]
  },
  {
   "cell_type": "code",
   "execution_count": 11,
   "metadata": {},
   "outputs": [],
   "source": [
    "import pandas as pd\n",
    "import glob"
   ]
  },
  {
   "cell_type": "markdown",
   "metadata": {},
   "source": [
    "Definitions go here"
   ]
  },
  {
   "cell_type": "code",
   "execution_count": 12,
   "metadata": {},
   "outputs": [],
   "source": [
    "dataPath = \"../data/*.csv\"\n",
    "dfList = [\"asdf\"] # define a junk list\n",
    "dfList.clear() # clear said junk list \n"
   ]
  },
  {
   "cell_type": "markdown",
   "metadata": {},
   "source": [
    "Read the data, using glob to get all the files at once"
   ]
  },
  {
   "cell_type": "code",
   "execution_count": 13,
   "metadata": {},
   "outputs": [
    {
     "name": "stdout",
     "output_type": "stream",
     "text": [
      "['../data/ds_salaries copy.csv', '../data/ds_salaries.csv']\n",
      "1\n",
      "../data/ds_salaries copy.csv\n",
      "2\n",
      "../data/ds_salaries.csv\n"
     ]
    }
   ],
   "source": [
    "dataList = glob.glob(dataPath)\n",
    "print(dataList)\n",
    "for fileName in dataList:\n",
    "    dfList.append(pd.read_csv(fileName , index_col=0))\n",
    "    print(len(dfList))\n",
    "    print(fileName)"
   ]
  },
  {
   "cell_type": "markdown",
   "metadata": {},
   "source": [
    "Method to show some info about the data"
   ]
  },
  {
   "cell_type": "code",
   "execution_count": 14,
   "metadata": {},
   "outputs": [],
   "source": [
    "def showDataSummary(x):\n",
    "    print(\"data type:\") \n",
    "    print(type(df)) \n",
    "    print(\"10 samples:\")\n",
    "    print(x.sample(10)) # needs to be encapsulated in print()\n",
    "    print(\"data describe:\")\n",
    "    print(x.describe()) # needs to be encapsulated in print()\n",
    "    print(\"data info:\")\n",
    "    print(x.info())"
   ]
  },
  {
   "cell_type": "markdown",
   "metadata": {},
   "source": [
    "Loop to run through all the dataframes in dfList"
   ]
  },
  {
   "cell_type": "code",
   "execution_count": 15,
   "metadata": {},
   "outputs": [
    {
     "name": "stdout",
     "output_type": "stream",
     "text": [
      "data type:\n",
      "<class 'pandas.core.frame.DataFrame'>\n",
      "10 samples:\n",
      "     AAAAAAAAAAAAAAAAAAAAAAAAAAAAAAAAAAAAAAAAAAAAA experience_level  \\\n",
      "229                                           2021               SE   \n",
      "447                                           2022               SE   \n",
      "549                                           2022               SE   \n",
      "559                                           2022               SE   \n",
      "39                                            2020               EN   \n",
      "477                                           2022               SE   \n",
      "171                                           2021               MI   \n",
      "254                                           2021               MI   \n",
      "187                                           2021               EX   \n",
      "92                                            2021               MI   \n",
      "\n",
      "    employment_type                  job_title   salary salary_currency  \\\n",
      "229              FT               Data Analyst    90000             CAD   \n",
      "447              FT              Data Engineer   154600             USD   \n",
      "549              FT              Data Engineer   160000             USD   \n",
      "559              FT             Data Scientist   140400             USD   \n",
      "39               FT  Machine Learning Engineer   138000             USD   \n",
      "477              FT  Machine Learning Engineer   220000             USD   \n",
      "171              FT              Data Engineer    60000             GBP   \n",
      "254              FT               Data Analyst    93000             USD   \n",
      "187              FT    Data Science Consultant    59000             EUR   \n",
      "92               FT          Lead Data Analyst  1450000             INR   \n",
      "\n",
      "     salary_in_usd employee_residence  remote_ratio company_location  \\\n",
      "229          71786                 CA           100               CA   \n",
      "447         154600                 US           100               US   \n",
      "549         160000                 US           100               US   \n",
      "559         140400                 US             0               US   \n",
      "39          138000                 US           100               US   \n",
      "477         220000                 US           100               US   \n",
      "171          82528                 GB           100               GB   \n",
      "254          93000                 US           100               US   \n",
      "187          69741                 FR           100               ES   \n",
      "92           19609                 IN           100               IN   \n",
      "\n",
      "    company_size  \n",
      "229            M  \n",
      "447            L  \n",
      "549            M  \n",
      "559            M  \n",
      "39             S  \n",
      "477            M  \n",
      "171            L  \n",
      "254            L  \n",
      "187            S  \n",
      "92             L  \n",
      "data describe:\n",
      "       AAAAAAAAAAAAAAAAAAAAAAAAAAAAAAAAAAAAAAAAAAAAA        salary  \\\n",
      "count                                     607.000000  6.070000e+02   \n",
      "mean                                     2021.405272  3.240001e+05   \n",
      "std                                         0.692133  1.544357e+06   \n",
      "min                                      2020.000000  4.000000e+03   \n",
      "25%                                      2021.000000  7.000000e+04   \n",
      "50%                                      2022.000000  1.150000e+05   \n",
      "75%                                      2022.000000  1.650000e+05   \n",
      "max                                      2022.000000  3.040000e+07   \n",
      "\n",
      "       salary_in_usd  remote_ratio  \n",
      "count     607.000000     607.00000  \n",
      "mean   112297.869852      70.92257  \n",
      "std     70957.259411      40.70913  \n",
      "min      2859.000000       0.00000  \n",
      "25%     62726.000000      50.00000  \n",
      "50%    101570.000000     100.00000  \n",
      "75%    150000.000000     100.00000  \n",
      "max    600000.000000     100.00000  \n",
      "data info:\n",
      "<class 'pandas.core.frame.DataFrame'>\n",
      "Int64Index: 607 entries, 0 to 606\n",
      "Data columns (total 11 columns):\n",
      " #   Column                                         Non-Null Count  Dtype \n",
      "---  ------                                         --------------  ----- \n",
      " 0   AAAAAAAAAAAAAAAAAAAAAAAAAAAAAAAAAAAAAAAAAAAAA  607 non-null    int64 \n",
      " 1   experience_level                               607 non-null    object\n",
      " 2   employment_type                                607 non-null    object\n",
      " 3   job_title                                      607 non-null    object\n",
      " 4   salary                                         607 non-null    int64 \n",
      " 5   salary_currency                                607 non-null    object\n",
      " 6   salary_in_usd                                  607 non-null    int64 \n",
      " 7   employee_residence                             607 non-null    object\n",
      " 8   remote_ratio                                   607 non-null    int64 \n",
      " 9   company_location                               607 non-null    object\n",
      " 10  company_size                                   607 non-null    object\n",
      "dtypes: int64(4), object(7)\n",
      "memory usage: 56.9+ KB\n",
      "None\n",
      "AAAAAAAAAAAAAAAAAAAAAAAAAAAAAAAAAAAAAAAAAAAAA\n",
      "data type:\n",
      "<class 'pandas.core.frame.DataFrame'>\n",
      "10 samples:\n",
      "     work_year experience_level employment_type             job_title  salary  \\\n",
      "393       2022               SE              FT          Data Analyst   90320   \n",
      "422       2022               MI              FT  Data Science Manager  159000   \n",
      "211       2021               MI              FT    Research Scientist   48000   \n",
      "217       2021               MI              FT        Data Scientist   76760   \n",
      "344       2022               EX              FT    Analytics Engineer  175000   \n",
      "303       2022               SE              FT        Data Scientist  123000   \n",
      "362       2022               SE              FT          Data Analyst  130000   \n",
      "9         2020               SE              FT    Lead Data Engineer  125000   \n",
      "336       2022               MI              FT          Data Analyst  167000   \n",
      "535       2022               SE              FT        Data Architect  213120   \n",
      "\n",
      "    salary_currency  salary_in_usd employee_residence  remote_ratio  \\\n",
      "393             USD          90320                 US           100   \n",
      "422             USD         159000                 US           100   \n",
      "211             EUR          56738                 FR            50   \n",
      "217             EUR          90734                 DE            50   \n",
      "344             USD         175000                 US           100   \n",
      "303             USD         123000                 US           100   \n",
      "362             USD         130000                 CA           100   \n",
      "9               USD         125000                 NZ            50   \n",
      "336             USD         167000                 US           100   \n",
      "535             USD         213120                 US           100   \n",
      "\n",
      "    company_location company_size  \n",
      "393               US            M  \n",
      "422               US            M  \n",
      "211               FR            S  \n",
      "217               DE            L  \n",
      "344               US            M  \n",
      "303               US            M  \n",
      "362               CA            M  \n",
      "9                 NZ            S  \n",
      "336               US            M  \n",
      "535               US            M  \n",
      "data describe:\n",
      "         work_year        salary  salary_in_usd  remote_ratio\n",
      "count   607.000000  6.070000e+02     607.000000     607.00000\n",
      "mean   2021.405272  3.240001e+05  112297.869852      70.92257\n",
      "std       0.692133  1.544357e+06   70957.259411      40.70913\n",
      "min    2020.000000  4.000000e+03    2859.000000       0.00000\n",
      "25%    2021.000000  7.000000e+04   62726.000000      50.00000\n",
      "50%    2022.000000  1.150000e+05  101570.000000     100.00000\n",
      "75%    2022.000000  1.650000e+05  150000.000000     100.00000\n",
      "max    2022.000000  3.040000e+07  600000.000000     100.00000\n",
      "data info:\n",
      "<class 'pandas.core.frame.DataFrame'>\n",
      "Int64Index: 607 entries, 0 to 606\n",
      "Data columns (total 11 columns):\n",
      " #   Column              Non-Null Count  Dtype \n",
      "---  ------              --------------  ----- \n",
      " 0   work_year           607 non-null    int64 \n",
      " 1   experience_level    607 non-null    object\n",
      " 2   employment_type     607 non-null    object\n",
      " 3   job_title           607 non-null    object\n",
      " 4   salary              607 non-null    int64 \n",
      " 5   salary_currency     607 non-null    object\n",
      " 6   salary_in_usd       607 non-null    int64 \n",
      " 7   employee_residence  607 non-null    object\n",
      " 8   remote_ratio        607 non-null    int64 \n",
      " 9   company_location    607 non-null    object\n",
      " 10  company_size        607 non-null    object\n",
      "dtypes: int64(4), object(7)\n",
      "memory usage: 56.9+ KB\n",
      "None\n",
      "AAAAAAAAAAAAAAAAAAAAAAAAAAAAAAAAAAAAAAAAAAAAA\n"
     ]
    }
   ],
   "source": [
    " for df in dfList:\n",
    "    showDataSummary(df)\n",
    "    print(\"AAAAAAAAAAAAAAAAAAAAAAAAAAAAAAAAAAAAAAAAAAAAA\")\n",
    "    #print(df)\n"
   ]
  },
  {
   "cell_type": "code",
   "execution_count": null,
   "metadata": {},
   "outputs": [],
   "source": []
  }
 ],
 "metadata": {
  "kernelspec": {
   "display_name": "Python 3 (ipykernel)",
   "language": "python",
   "name": "python3"
  },
  "language_info": {
   "codemirror_mode": {
    "name": "ipython",
    "version": 3
   },
   "file_extension": ".py",
   "mimetype": "text/x-python",
   "name": "python",
   "nbconvert_exporter": "python",
   "pygments_lexer": "ipython3",
   "version": "3.10.4"
  },
  "orig_nbformat": 4
 },
 "nbformat": 4,
 "nbformat_minor": 2
}
