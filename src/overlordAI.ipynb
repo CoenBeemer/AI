{
 "cells": [
  {
   "cell_type": "markdown",
   "metadata": {},
   "source": [
    "# Overlord AI\n",
    "For information about this project, see [this README.md](README.md)\n"
   ]
  },
  {
   "cell_type": "markdown",
   "metadata": {},
   "source": [
    "# CODE STARTS HERE"
   ]
  },
  {
   "cell_type": "markdown",
   "metadata": {},
   "source": [
    "First we import all the libraries and whatnot"
   ]
  },
  {
   "cell_type": "markdown",
   "metadata": {},
   "source": [
    "# imports\n",
    "import pandas as pd\n",
    "import glob\n"
   ]
  },
  {
   "cell_type": "markdown",
   "metadata": {},
   "source": [
    "Definitions go here"
   ]
  },
  {
   "cell_type": "markdown",
   "metadata": {},
   "source": [
    "# definitions\n",
    "dataPath = '../data/*.csv'\n",
    "dfList = []  # define a list for the dataFields\n"
   ]
  },
  {
   "cell_type": "markdown",
   "metadata": {},
   "source": [
    "Read the data, using glob to get all the files at once"
   ]
  },
  {
   "cell_type": "markdown",
   "metadata": {},
   "source": [
    "# reading data\n",
    "dataList = glob.glob(dataPath)\n",
    "print(dataList)\n",
    "for fileName in dataList:\n",
    "    dfList.append(pd.read_csv(fileName, index_col=0))\n",
    "    print(len(dfList))\n",
    "    print(fileName)\n"
   ]
  },
  {
   "cell_type": "markdown",
   "metadata": {},
   "source": [
    "Method to show some info about the data"
   ]
  },
  {
   "cell_type": "markdown",
   "metadata": {},
   "source": [
    "# data summary define\n",
    "def showDataSummary(x):\n",
    "    print('data type:') \n",
    "    print(type(df)) \n",
    "    print('10 samples:')\n",
    "    print(x.sample(10)) # needs to be encapsulated in print()\n",
    "    print('data describe:')\n",
    "    print(x.describe()) # needs to be encapsulated in print()\n",
    "    print('data info:')\n",
    "    print(x.info())"
   ]
  },
  {
   "cell_type": "markdown",
   "metadata": {},
   "source": [
    "Loop to run through all the dataframes in dfList"
   ]
  },
  {
   "cell_type": "markdown",
   "metadata": {},
   "source": [
    "## load dataset"
   ]
  },
  {
   "cell_type": "markdown",
   "metadata": {},
   "source": [
    "## investigate dataset"
   ]
  },
  {
   "cell_type": "markdown",
   "metadata": {},
   "source": [
    "## transform data"
   ]
  },
  {
   "cell_type": "markdown",
   "metadata": {},
   "source": [
    "## deal with missing values"
   ]
  },
  {
   "cell_type": "markdown",
   "metadata": {},
   "source": [
    "## preprocessing\n"
   ]
  },
  {
   "cell_type": "code",
   "execution_count": 62,
   "metadata": {},
   "outputs": [],
   "source": [
    "import requests\n",
    "import pandas as pd\n",
    "from bs4 import BeautifulSoup\n",
    "import os\n",
    "\n",
    "downloadWorkbooks = False"
   ]
  },
  {
   "cell_type": "code",
   "execution_count": 70,
   "metadata": {},
   "outputs": [
    {
     "name": "stdout",
     "output_type": "stream",
     "text": [
      "9084\n",
      "8858\n",
      "8951\n",
      "8775\n",
      "8941\n",
      "8917\n",
      "9005\n",
      "9013\n",
      "8788\n",
      "8992\n",
      "8600\n",
      "8706\n",
      "8819\n",
      "8936\n",
      "8998\n",
      "8814\n",
      "9071\n",
      "8954\n",
      "8951\n",
      "9400\n"
     ]
    }
   ],
   "source": [
    "df = pd.DataFrame([[\"test\",\"test\",\"test\"]], columns=['link', 'requeststatus', 'content'])\n",
    "index =0\n",
    "sourcelist = pd.read_csv(\"../data/models/sourcesShort.csv\")\n",
    "#print(sourcelist)\n",
    "for item in sourcelist['Sources']: # loop through sources\n",
    "        r = requests.get(item) # get the html data\n",
    "\n",
    "        if(downloadWorkbooks):\n",
    "                # download the workbooks\n",
    "                kagglelink=item.replace('https://www.kaggle.com/code/', \"\")\n",
    "                dirname=kagglelink.split(\"/\")[1]\n",
    "                command = \"kaggle k pull \" + kagglelink +\" -p ../data/.models/\"+dirname\n",
    "                os.system('%s'%command)\n",
    "\n",
    "        # html parsing\n",
    "        # soup = BeautifulSoup(r.content, 'html.parser')\n",
    "        # s = soup.find('div', id='notebook-container')\n",
    "        # print(s)\n",
    "        # #content = s.find_all('span', class_='sc-kLLXSd sc-ikZpkk jtmWnw gJVCJh')\n",
    "        # #print(content)\n",
    "       # print(r.content)\n",
    "        print(r.text.find(\"tags\"))\n",
    "\n",
    "        # add data to the df\n",
    "        new_row = [item, r.status_code,r.text]\n",
    "        df.loc[index] = new_row\n",
    "        index +=1\n"
   ]
  },
  {
   "cell_type": "code",
   "execution_count": 71,
   "metadata": {},
   "outputs": [
    {
     "name": "stdout",
     "output_type": "stream",
     "text": [
      "<class 'pandas.core.frame.DataFrame'>\n",
      "Int64Index: 20 entries, 0 to 19\n",
      "Data columns (total 3 columns):\n",
      " #   Column         Non-Null Count  Dtype \n",
      "---  ------         --------------  ----- \n",
      " 0   link           20 non-null     object\n",
      " 1   requeststatus  20 non-null     object\n",
      " 2   content        20 non-null     object\n",
      "dtypes: object(3)\n",
      "memory usage: 640.0+ bytes\n"
     ]
    }
   ],
   "source": [
    "df.info()"
   ]
  },
  {
   "cell_type": "code",
   "execution_count": 65,
   "metadata": {},
   "outputs": [
    {
     "data": {
      "text/html": [
       "<div>\n",
       "<style scoped>\n",
       "    .dataframe tbody tr th:only-of-type {\n",
       "        vertical-align: middle;\n",
       "    }\n",
       "\n",
       "    .dataframe tbody tr th {\n",
       "        vertical-align: top;\n",
       "    }\n",
       "\n",
       "    .dataframe thead th {\n",
       "        text-align: right;\n",
       "    }\n",
       "</style>\n",
       "<table border=\"1\" class=\"dataframe\">\n",
       "  <thead>\n",
       "    <tr style=\"text-align: right;\">\n",
       "      <th></th>\n",
       "      <th>link</th>\n",
       "      <th>requeststatus</th>\n",
       "      <th>content</th>\n",
       "    </tr>\n",
       "  </thead>\n",
       "  <tbody>\n",
       "    <tr>\n",
       "      <th>count</th>\n",
       "      <td>20</td>\n",
       "      <td>20</td>\n",
       "      <td>20</td>\n",
       "    </tr>\n",
       "    <tr>\n",
       "      <th>unique</th>\n",
       "      <td>20</td>\n",
       "      <td>1</td>\n",
       "      <td>20</td>\n",
       "    </tr>\n",
       "    <tr>\n",
       "      <th>top</th>\n",
       "      <td>https://www.kaggle.com/code/janiobachmann/cred...</td>\n",
       "      <td>200</td>\n",
       "      <td>b'\\r\\n\\r\\n&lt;!DOCTYPE html&gt;\\r\\n&lt;html lang=\"en\"&gt;\\...</td>\n",
       "    </tr>\n",
       "    <tr>\n",
       "      <th>freq</th>\n",
       "      <td>1</td>\n",
       "      <td>20</td>\n",
       "      <td>1</td>\n",
       "    </tr>\n",
       "  </tbody>\n",
       "</table>\n",
       "</div>"
      ],
      "text/plain": [
       "                                                     link  requeststatus  \\\n",
       "count                                                  20             20   \n",
       "unique                                                 20              1   \n",
       "top     https://www.kaggle.com/code/janiobachmann/cred...            200   \n",
       "freq                                                    1             20   \n",
       "\n",
       "                                                  content  \n",
       "count                                                  20  \n",
       "unique                                                 20  \n",
       "top     b'\\r\\n\\r\\n<!DOCTYPE html>\\r\\n<html lang=\"en\">\\...  \n",
       "freq                                                    1  "
      ]
     },
     "execution_count": 65,
     "metadata": {},
     "output_type": "execute_result"
    }
   ],
   "source": [
    "df.describe()"
   ]
  },
  {
   "cell_type": "code",
   "execution_count": 69,
   "metadata": {},
   "outputs": [
    {
     "data": {
      "text/html": [
       "<div>\n",
       "<style scoped>\n",
       "    .dataframe tbody tr th:only-of-type {\n",
       "        vertical-align: middle;\n",
       "    }\n",
       "\n",
       "    .dataframe tbody tr th {\n",
       "        vertical-align: top;\n",
       "    }\n",
       "\n",
       "    .dataframe thead th {\n",
       "        text-align: right;\n",
       "    }\n",
       "</style>\n",
       "<table border=\"1\" class=\"dataframe\">\n",
       "  <thead>\n",
       "    <tr style=\"text-align: right;\">\n",
       "      <th></th>\n",
       "      <th>link</th>\n",
       "      <th>requeststatus</th>\n",
       "      <th>content</th>\n",
       "    </tr>\n",
       "  </thead>\n",
       "  <tbody>\n",
       "    <tr>\n",
       "      <th>0</th>\n",
       "      <td>https://www.kaggle.com/code/janiobachmann/cred...</td>\n",
       "      <td>200</td>\n",
       "      <td>\\r\\n\\r\\n&lt;!DOCTYPE html&gt;\\r\\n&lt;html lang=\"en\"&gt;\\r\\...</td>\n",
       "    </tr>\n",
       "    <tr>\n",
       "      <th>1</th>\n",
       "      <td>https://www.kaggle.com/code/willkoehrsen/start...</td>\n",
       "      <td>200</td>\n",
       "      <td>\\r\\n\\r\\n&lt;!DOCTYPE html&gt;\\r\\n&lt;html lang=\"en\"&gt;\\r\\...</td>\n",
       "    </tr>\n",
       "    <tr>\n",
       "      <th>2</th>\n",
       "      <td>https://www.kaggle.com/code/yassineghouzam/tit...</td>\n",
       "      <td>200</td>\n",
       "      <td>\\r\\n\\r\\n&lt;!DOCTYPE html&gt;\\r\\n&lt;html lang=\"en\"&gt;\\r\\...</td>\n",
       "    </tr>\n",
       "    <tr>\n",
       "      <th>3</th>\n",
       "      <td>https://www.kaggle.com/code/ash316/eda-to-pred...</td>\n",
       "      <td>200</td>\n",
       "      <td>\\r\\n\\r\\n&lt;!DOCTYPE html&gt;\\r\\n&lt;html lang=\"en\"&gt;\\r\\...</td>\n",
       "    </tr>\n",
       "    <tr>\n",
       "      <th>4</th>\n",
       "      <td>https://www.kaggle.com/code/kanncaa1/machine-l...</td>\n",
       "      <td>200</td>\n",
       "      <td>\\r\\n\\r\\n&lt;!DOCTYPE html&gt;\\r\\n&lt;html lang=\"en\"&gt;\\r\\...</td>\n",
       "    </tr>\n",
       "    <tr>\n",
       "      <th>5</th>\n",
       "      <td>https://www.kaggle.com/code/kanncaa1/deep-lear...</td>\n",
       "      <td>200</td>\n",
       "      <td>\\r\\n\\r\\n&lt;!DOCTYPE html&gt;\\r\\n&lt;html lang=\"en\"&gt;\\r\\...</td>\n",
       "    </tr>\n",
       "    <tr>\n",
       "      <th>6</th>\n",
       "      <td>https://www.kaggle.com/code/kanncaa1/feature-s...</td>\n",
       "      <td>200</td>\n",
       "      <td>\\r\\n\\r\\n&lt;!DOCTYPE html&gt;\\r\\n&lt;html lang=\"en\"&gt;\\r\\...</td>\n",
       "    </tr>\n",
       "    <tr>\n",
       "      <th>7</th>\n",
       "      <td>https://www.kaggle.com/code/gunesevitan/nlp-wi...</td>\n",
       "      <td>200</td>\n",
       "      <td>\\r\\n\\r\\n&lt;!DOCTYPE html&gt;\\r\\n&lt;html lang=\"en\"&gt;\\r\\...</td>\n",
       "    </tr>\n",
       "    <tr>\n",
       "      <th>8</th>\n",
       "      <td>https://www.kaggle.com/code/gpreda/santander-e...</td>\n",
       "      <td>200</td>\n",
       "      <td>\\r\\n\\r\\n&lt;!DOCTYPE html&gt;\\r\\n&lt;html lang=\"en\"&gt;\\r\\...</td>\n",
       "    </tr>\n",
       "    <tr>\n",
       "      <th>9</th>\n",
       "      <td>https://www.kaggle.com/code/vbmokin/data-scien...</td>\n",
       "      <td>200</td>\n",
       "      <td>\\r\\n\\r\\n&lt;!DOCTYPE html&gt;\\r\\n&lt;html lang=\"en\"&gt;\\r\\...</td>\n",
       "    </tr>\n",
       "    <tr>\n",
       "      <th>10</th>\n",
       "      <td>https://www.kaggle.com/code/artgor/eda-and-models</td>\n",
       "      <td>200</td>\n",
       "      <td>\\r\\n\\r\\n&lt;!DOCTYPE html&gt;\\r\\n&lt;html lang=\"en\"&gt;\\r\\...</td>\n",
       "    </tr>\n",
       "    <tr>\n",
       "      <th>11</th>\n",
       "      <td>https://www.kaggle.com/code/fabiendaniel/custo...</td>\n",
       "      <td>200</td>\n",
       "      <td>\\r\\n\\r\\n&lt;!DOCTYPE html&gt;\\r\\n&lt;html lang=\"en\"&gt;\\r\\...</td>\n",
       "    </tr>\n",
       "    <tr>\n",
       "      <th>12</th>\n",
       "      <td>https://www.kaggle.com/code/uysimty/keras-cnn-...</td>\n",
       "      <td>200</td>\n",
       "      <td>\\r\\n\\r\\n&lt;!DOCTYPE html&gt;\\r\\n&lt;html lang=\"en\"&gt;\\r\\...</td>\n",
       "    </tr>\n",
       "    <tr>\n",
       "      <th>13</th>\n",
       "      <td>https://www.kaggle.com/code/janiobachmann/lend...</td>\n",
       "      <td>200</td>\n",
       "      <td>\\r\\n\\r\\n&lt;!DOCTYPE html&gt;\\r\\n&lt;html lang=\"en\"&gt;\\r\\...</td>\n",
       "    </tr>\n",
       "    <tr>\n",
       "      <th>14</th>\n",
       "      <td>https://www.kaggle.com/code/cdabakoglu/heart-d...</td>\n",
       "      <td>200</td>\n",
       "      <td>\\r\\n\\r\\n&lt;!DOCTYPE html&gt;\\r\\n&lt;html lang=\"en\"&gt;\\r\\...</td>\n",
       "    </tr>\n",
       "    <tr>\n",
       "      <th>15</th>\n",
       "      <td>https://www.kaggle.com/code/artgor/exploration...</td>\n",
       "      <td>200</td>\n",
       "      <td>\\r\\n\\r\\n&lt;!DOCTYPE html&gt;\\r\\n&lt;html lang=\"en\"&gt;\\r\\...</td>\n",
       "    </tr>\n",
       "    <tr>\n",
       "      <th>16</th>\n",
       "      <td>https://www.kaggle.com/code/sbongo/for-beginne...</td>\n",
       "      <td>200</td>\n",
       "      <td>\\r\\n\\r\\n&lt;!DOCTYPE html&gt;\\r\\n&lt;html lang=\"en\"&gt;\\r\\...</td>\n",
       "    </tr>\n",
       "    <tr>\n",
       "      <th>17</th>\n",
       "      <td>https://www.kaggle.com/code/iafoss/pretrained-...</td>\n",
       "      <td>200</td>\n",
       "      <td>\\r\\n\\r\\n&lt;!DOCTYPE html&gt;\\r\\n&lt;html lang=\"en\"&gt;\\r\\...</td>\n",
       "    </tr>\n",
       "    <tr>\n",
       "      <th>18</th>\n",
       "      <td>https://www.kaggle.com/code/isaienkov/mechanis...</td>\n",
       "      <td>200</td>\n",
       "      <td>\\r\\n\\r\\n&lt;!DOCTYPE html&gt;\\r\\n&lt;html lang=\"en\"&gt;\\r\\...</td>\n",
       "    </tr>\n",
       "    <tr>\n",
       "      <th>19</th>\n",
       "      <td>https://www.kaggle.com/code/vbmokin/nlp-eda-ba...</td>\n",
       "      <td>200</td>\n",
       "      <td>\\r\\n\\r\\n&lt;!DOCTYPE html&gt;\\r\\n&lt;html lang=\"en\"&gt;\\r\\...</td>\n",
       "    </tr>\n",
       "  </tbody>\n",
       "</table>\n",
       "</div>"
      ],
      "text/plain": [
       "                                                 link requeststatus  \\\n",
       "0   https://www.kaggle.com/code/janiobachmann/cred...           200   \n",
       "1   https://www.kaggle.com/code/willkoehrsen/start...           200   \n",
       "2   https://www.kaggle.com/code/yassineghouzam/tit...           200   \n",
       "3   https://www.kaggle.com/code/ash316/eda-to-pred...           200   \n",
       "4   https://www.kaggle.com/code/kanncaa1/machine-l...           200   \n",
       "5   https://www.kaggle.com/code/kanncaa1/deep-lear...           200   \n",
       "6   https://www.kaggle.com/code/kanncaa1/feature-s...           200   \n",
       "7   https://www.kaggle.com/code/gunesevitan/nlp-wi...           200   \n",
       "8   https://www.kaggle.com/code/gpreda/santander-e...           200   \n",
       "9   https://www.kaggle.com/code/vbmokin/data-scien...           200   \n",
       "10  https://www.kaggle.com/code/artgor/eda-and-models           200   \n",
       "11  https://www.kaggle.com/code/fabiendaniel/custo...           200   \n",
       "12  https://www.kaggle.com/code/uysimty/keras-cnn-...           200   \n",
       "13  https://www.kaggle.com/code/janiobachmann/lend...           200   \n",
       "14  https://www.kaggle.com/code/cdabakoglu/heart-d...           200   \n",
       "15  https://www.kaggle.com/code/artgor/exploration...           200   \n",
       "16  https://www.kaggle.com/code/sbongo/for-beginne...           200   \n",
       "17  https://www.kaggle.com/code/iafoss/pretrained-...           200   \n",
       "18  https://www.kaggle.com/code/isaienkov/mechanis...           200   \n",
       "19  https://www.kaggle.com/code/vbmokin/nlp-eda-ba...           200   \n",
       "\n",
       "                                              content  \n",
       "0   \\r\\n\\r\\n<!DOCTYPE html>\\r\\n<html lang=\"en\">\\r\\...  \n",
       "1   \\r\\n\\r\\n<!DOCTYPE html>\\r\\n<html lang=\"en\">\\r\\...  \n",
       "2   \\r\\n\\r\\n<!DOCTYPE html>\\r\\n<html lang=\"en\">\\r\\...  \n",
       "3   \\r\\n\\r\\n<!DOCTYPE html>\\r\\n<html lang=\"en\">\\r\\...  \n",
       "4   \\r\\n\\r\\n<!DOCTYPE html>\\r\\n<html lang=\"en\">\\r\\...  \n",
       "5   \\r\\n\\r\\n<!DOCTYPE html>\\r\\n<html lang=\"en\">\\r\\...  \n",
       "6   \\r\\n\\r\\n<!DOCTYPE html>\\r\\n<html lang=\"en\">\\r\\...  \n",
       "7   \\r\\n\\r\\n<!DOCTYPE html>\\r\\n<html lang=\"en\">\\r\\...  \n",
       "8   \\r\\n\\r\\n<!DOCTYPE html>\\r\\n<html lang=\"en\">\\r\\...  \n",
       "9   \\r\\n\\r\\n<!DOCTYPE html>\\r\\n<html lang=\"en\">\\r\\...  \n",
       "10  \\r\\n\\r\\n<!DOCTYPE html>\\r\\n<html lang=\"en\">\\r\\...  \n",
       "11  \\r\\n\\r\\n<!DOCTYPE html>\\r\\n<html lang=\"en\">\\r\\...  \n",
       "12  \\r\\n\\r\\n<!DOCTYPE html>\\r\\n<html lang=\"en\">\\r\\...  \n",
       "13  \\r\\n\\r\\n<!DOCTYPE html>\\r\\n<html lang=\"en\">\\r\\...  \n",
       "14  \\r\\n\\r\\n<!DOCTYPE html>\\r\\n<html lang=\"en\">\\r\\...  \n",
       "15  \\r\\n\\r\\n<!DOCTYPE html>\\r\\n<html lang=\"en\">\\r\\...  \n",
       "16  \\r\\n\\r\\n<!DOCTYPE html>\\r\\n<html lang=\"en\">\\r\\...  \n",
       "17  \\r\\n\\r\\n<!DOCTYPE html>\\r\\n<html lang=\"en\">\\r\\...  \n",
       "18  \\r\\n\\r\\n<!DOCTYPE html>\\r\\n<html lang=\"en\">\\r\\...  \n",
       "19  \\r\\n\\r\\n<!DOCTYPE html>\\r\\n<html lang=\"en\">\\r\\...  "
      ]
     },
     "execution_count": 69,
     "metadata": {},
     "output_type": "execute_result"
    }
   ],
   "source": [
    "df.head(20)"
   ]
  }
 ],
 "metadata": {
  "kernelspec": {
   "display_name": "Python 3 (ipykernel)",
   "language": "python",
   "name": "python3"
  },
  "language_info": {
   "codemirror_mode": {
    "name": "ipython",
    "version": 3
   },
   "file_extension": ".py",
   "mimetype": "text/x-python",
   "name": "python",
   "nbconvert_exporter": "python",
   "pygments_lexer": "ipython3",
   "version": "3.10.4"
  },
  "orig_nbformat": 4,
  "vscode": {
   "interpreter": {
    "hash": "916dbcbb3f70747c44a77c7bcd40155683ae19c65e1c03b4aa3499c5328201f1"
   }
  }
 },
 "nbformat": 4,
 "nbformat_minor": 2
}
